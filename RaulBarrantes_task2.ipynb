{
 "cells": [
  {
   "cell_type": "markdown",
   "metadata": {},
   "source": [
    "## Import Libraries"
   ]
  },
  {
   "cell_type": "code",
   "execution_count": 301,
   "metadata": {},
   "outputs": [],
   "source": [
    "import numpy as np\n",
    "import pandas as pd\n",
    "from pandas import Series, DataFrame\n",
    "import matplotlib as mpl\n",
    "import matplotlib.pyplot as plt\n",
    "import seaborn as sns \n",
    "%matplotlib inline"
   ]
  },
  {
   "cell_type": "markdown",
   "metadata": {},
   "source": [
    "## Import CSV file"
   ]
  },
  {
   "cell_type": "code",
   "execution_count": 302,
   "metadata": {},
   "outputs": [],
   "source": [
    "credit = pd.read_csv('default of credit card clients.csv', header =1)"
   ]
  },
  {
   "cell_type": "markdown",
   "metadata": {},
   "source": [
    "x"
   ]
  },
  {
   "cell_type": "code",
   "execution_count": 303,
   "metadata": {},
   "outputs": [
    {
     "data": {
      "text/html": [
       "<div>\n",
       "<style scoped>\n",
       "    .dataframe tbody tr th:only-of-type {\n",
       "        vertical-align: middle;\n",
       "    }\n",
       "\n",
       "    .dataframe tbody tr th {\n",
       "        vertical-align: top;\n",
       "    }\n",
       "\n",
       "    .dataframe thead th {\n",
       "        text-align: right;\n",
       "    }\n",
       "</style>\n",
       "<table border=\"1\" class=\"dataframe\">\n",
       "  <thead>\n",
       "    <tr style=\"text-align: right;\">\n",
       "      <th></th>\n",
       "      <th>ID</th>\n",
       "      <th>LIMIT_BAL</th>\n",
       "      <th>SEX</th>\n",
       "      <th>EDUCATION</th>\n",
       "      <th>MARRIAGE</th>\n",
       "      <th>AGE</th>\n",
       "      <th>PAY_0</th>\n",
       "      <th>PAY_2</th>\n",
       "      <th>PAY_3</th>\n",
       "      <th>PAY_4</th>\n",
       "      <th>...</th>\n",
       "      <th>BILL_AMT4</th>\n",
       "      <th>BILL_AMT5</th>\n",
       "      <th>BILL_AMT6</th>\n",
       "      <th>PAY_AMT1</th>\n",
       "      <th>PAY_AMT2</th>\n",
       "      <th>PAY_AMT3</th>\n",
       "      <th>PAY_AMT4</th>\n",
       "      <th>PAY_AMT5</th>\n",
       "      <th>PAY_AMT6</th>\n",
       "      <th>default payment next month</th>\n",
       "    </tr>\n",
       "  </thead>\n",
       "  <tbody>\n",
       "    <tr>\n",
       "      <th>0</th>\n",
       "      <td>1</td>\n",
       "      <td>20000</td>\n",
       "      <td>2</td>\n",
       "      <td>2</td>\n",
       "      <td>1</td>\n",
       "      <td>24</td>\n",
       "      <td>2</td>\n",
       "      <td>2</td>\n",
       "      <td>-1</td>\n",
       "      <td>-1</td>\n",
       "      <td>...</td>\n",
       "      <td>0</td>\n",
       "      <td>0</td>\n",
       "      <td>0</td>\n",
       "      <td>0</td>\n",
       "      <td>689</td>\n",
       "      <td>0</td>\n",
       "      <td>0</td>\n",
       "      <td>0</td>\n",
       "      <td>0</td>\n",
       "      <td>1</td>\n",
       "    </tr>\n",
       "    <tr>\n",
       "      <th>1</th>\n",
       "      <td>2</td>\n",
       "      <td>120000</td>\n",
       "      <td>2</td>\n",
       "      <td>2</td>\n",
       "      <td>2</td>\n",
       "      <td>26</td>\n",
       "      <td>-1</td>\n",
       "      <td>2</td>\n",
       "      <td>0</td>\n",
       "      <td>0</td>\n",
       "      <td>...</td>\n",
       "      <td>3272</td>\n",
       "      <td>3455</td>\n",
       "      <td>3261</td>\n",
       "      <td>0</td>\n",
       "      <td>1000</td>\n",
       "      <td>1000</td>\n",
       "      <td>1000</td>\n",
       "      <td>0</td>\n",
       "      <td>2000</td>\n",
       "      <td>1</td>\n",
       "    </tr>\n",
       "    <tr>\n",
       "      <th>2</th>\n",
       "      <td>3</td>\n",
       "      <td>90000</td>\n",
       "      <td>2</td>\n",
       "      <td>2</td>\n",
       "      <td>2</td>\n",
       "      <td>34</td>\n",
       "      <td>0</td>\n",
       "      <td>0</td>\n",
       "      <td>0</td>\n",
       "      <td>0</td>\n",
       "      <td>...</td>\n",
       "      <td>14331</td>\n",
       "      <td>14948</td>\n",
       "      <td>15549</td>\n",
       "      <td>1518</td>\n",
       "      <td>1500</td>\n",
       "      <td>1000</td>\n",
       "      <td>1000</td>\n",
       "      <td>1000</td>\n",
       "      <td>5000</td>\n",
       "      <td>0</td>\n",
       "    </tr>\n",
       "    <tr>\n",
       "      <th>3</th>\n",
       "      <td>4</td>\n",
       "      <td>50000</td>\n",
       "      <td>2</td>\n",
       "      <td>2</td>\n",
       "      <td>1</td>\n",
       "      <td>37</td>\n",
       "      <td>0</td>\n",
       "      <td>0</td>\n",
       "      <td>0</td>\n",
       "      <td>0</td>\n",
       "      <td>...</td>\n",
       "      <td>28314</td>\n",
       "      <td>28959</td>\n",
       "      <td>29547</td>\n",
       "      <td>2000</td>\n",
       "      <td>2019</td>\n",
       "      <td>1200</td>\n",
       "      <td>1100</td>\n",
       "      <td>1069</td>\n",
       "      <td>1000</td>\n",
       "      <td>0</td>\n",
       "    </tr>\n",
       "    <tr>\n",
       "      <th>4</th>\n",
       "      <td>5</td>\n",
       "      <td>50000</td>\n",
       "      <td>1</td>\n",
       "      <td>2</td>\n",
       "      <td>1</td>\n",
       "      <td>57</td>\n",
       "      <td>-1</td>\n",
       "      <td>0</td>\n",
       "      <td>-1</td>\n",
       "      <td>0</td>\n",
       "      <td>...</td>\n",
       "      <td>20940</td>\n",
       "      <td>19146</td>\n",
       "      <td>19131</td>\n",
       "      <td>2000</td>\n",
       "      <td>36681</td>\n",
       "      <td>10000</td>\n",
       "      <td>9000</td>\n",
       "      <td>689</td>\n",
       "      <td>679</td>\n",
       "      <td>0</td>\n",
       "    </tr>\n",
       "  </tbody>\n",
       "</table>\n",
       "<p>5 rows × 25 columns</p>\n",
       "</div>"
      ],
      "text/plain": [
       "   ID  LIMIT_BAL  SEX  EDUCATION  MARRIAGE  AGE  PAY_0  PAY_2  PAY_3  PAY_4  \\\n",
       "0   1      20000    2          2         1   24      2      2     -1     -1   \n",
       "1   2     120000    2          2         2   26     -1      2      0      0   \n",
       "2   3      90000    2          2         2   34      0      0      0      0   \n",
       "3   4      50000    2          2         1   37      0      0      0      0   \n",
       "4   5      50000    1          2         1   57     -1      0     -1      0   \n",
       "\n",
       "   ...  BILL_AMT4  BILL_AMT5  BILL_AMT6  PAY_AMT1  PAY_AMT2  PAY_AMT3  \\\n",
       "0  ...          0          0          0         0       689         0   \n",
       "1  ...       3272       3455       3261         0      1000      1000   \n",
       "2  ...      14331      14948      15549      1518      1500      1000   \n",
       "3  ...      28314      28959      29547      2000      2019      1200   \n",
       "4  ...      20940      19146      19131      2000     36681     10000   \n",
       "\n",
       "   PAY_AMT4  PAY_AMT5  PAY_AMT6  default payment next month  \n",
       "0         0         0         0                           1  \n",
       "1      1000         0      2000                           1  \n",
       "2      1000      1000      5000                           0  \n",
       "3      1100      1069      1000                           0  \n",
       "4      9000       689       679                           0  \n",
       "\n",
       "[5 rows x 25 columns]"
      ]
     },
     "execution_count": 303,
     "metadata": {},
     "output_type": "execute_result"
    }
   ],
   "source": [
    "credit.head()"
   ]
  },
  {
   "cell_type": "code",
   "execution_count": 304,
   "metadata": {},
   "outputs": [
    {
     "data": {
      "text/plain": [
       "Index(['ID', 'LIMIT_BAL', 'SEX', 'EDUCATION', 'MARRIAGE', 'AGE', 'PAY_0',\n",
       "       'PAY_2', 'PAY_3', 'PAY_4', 'PAY_5', 'PAY_6', 'BILL_AMT1', 'BILL_AMT2',\n",
       "       'BILL_AMT3', 'BILL_AMT4', 'BILL_AMT5', 'BILL_AMT6', 'PAY_AMT1',\n",
       "       'PAY_AMT2', 'PAY_AMT3', 'PAY_AMT4', 'PAY_AMT5', 'PAY_AMT6',\n",
       "       'default payment next month'],\n",
       "      dtype='object')"
      ]
     },
     "execution_count": 304,
     "metadata": {},
     "output_type": "execute_result"
    }
   ],
   "source": [
    "credit.columns"
   ]
  },
  {
   "cell_type": "code",
   "execution_count": 305,
   "metadata": {},
   "outputs": [
    {
     "name": "stdout",
     "output_type": "stream",
     "text": [
      "<class 'pandas.core.frame.DataFrame'>\n",
      "RangeIndex: 30000 entries, 0 to 29999\n",
      "Data columns (total 25 columns):\n",
      "ID                            30000 non-null int64\n",
      "LIMIT_BAL                     30000 non-null int64\n",
      "SEX                           30000 non-null int64\n",
      "EDUCATION                     30000 non-null int64\n",
      "MARRIAGE                      30000 non-null int64\n",
      "AGE                           30000 non-null int64\n",
      "PAY_0                         30000 non-null int64\n",
      "PAY_2                         30000 non-null int64\n",
      "PAY_3                         30000 non-null int64\n",
      "PAY_4                         30000 non-null int64\n",
      "PAY_5                         30000 non-null int64\n",
      "PAY_6                         30000 non-null int64\n",
      "BILL_AMT1                     30000 non-null int64\n",
      "BILL_AMT2                     30000 non-null int64\n",
      "BILL_AMT3                     30000 non-null int64\n",
      "BILL_AMT4                     30000 non-null int64\n",
      "BILL_AMT5                     30000 non-null int64\n",
      "BILL_AMT6                     30000 non-null int64\n",
      "PAY_AMT1                      30000 non-null int64\n",
      "PAY_AMT2                      30000 non-null int64\n",
      "PAY_AMT3                      30000 non-null int64\n",
      "PAY_AMT4                      30000 non-null int64\n",
      "PAY_AMT5                      30000 non-null int64\n",
      "PAY_AMT6                      30000 non-null int64\n",
      "default payment next month    30000 non-null int64\n",
      "dtypes: int64(25)\n",
      "memory usage: 5.7 MB\n"
     ]
    }
   ],
   "source": [
    "credit.info()"
   ]
  },
  {
   "cell_type": "code",
   "execution_count": 311,
   "metadata": {},
   "outputs": [
    {
     "name": "stdout",
     "output_type": "stream",
     "text": [
      "                                      ID     LIMIT_BAL           SEX  \\\n",
      "ID                          7.500000e+00  3.750000e+04     -0.500000   \n",
      "LIMIT_BAL                   3.750000e+04  2.132778e+10 -15277.777778   \n",
      "SEX                        -5.000000e-01 -1.527778e+04      0.277778   \n",
      "EDUCATION                   7.500000e-01 -4.875000e+04      0.125000   \n",
      "MARRIAGE                   -2.775558e-17  1.666667e+04     -0.041667   \n",
      "AGE                        -4.750000e+00 -4.912500e+05     -2.750000   \n",
      "PAY_0                      -3.750000e-01  3.597222e+04      0.152778   \n",
      "PAY_2                      -2.250000e+00  2.805556e+04      0.194444   \n",
      "PAY_3                      -3.750000e-01  4.236111e+04      0.263889   \n",
      "PAY_4                      -1.000000e+00  2.611111e+04      0.138889   \n",
      "PAY_5                      -5.000000e-01  1.305556e+04      0.069444   \n",
      "PAY_6                      -1.750000e+00  1.500000e+04      0.125000   \n",
      "BILL_AMT1                   2.806625e+04  1.601546e+10 -24953.083333   \n",
      "BILL_AMT2                   3.799425e+04  1.827443e+10 -28610.638889   \n",
      "BILL_AMT3                   3.708888e+04  1.952423e+10 -33045.638889   \n",
      "BILL_AMT4                   5.575988e+04  2.479528e+10 -37243.597222   \n",
      "BILL_AMT5                   5.429550e+04  2.183142e+10 -33859.597222   \n",
      "BILL_AMT6                   5.049588e+04  2.136484e+10 -33673.375000   \n",
      "PAY_AMT1                    6.899125e+03  2.520234e+09  -3730.444444   \n",
      "PAY_AMT2                   -1.002125e+03  1.491913e+09  -5166.666667   \n",
      "PAY_AMT3                    2.487000e+03  1.669532e+09  -3177.180556   \n",
      "PAY_AMT4                    7.278625e+03  6.723114e+08  -2743.138889   \n",
      "PAY_AMT5                    2.348125e+03  5.976572e+08   -885.847222   \n",
      "PAY_AMT6                   -7.281250e+02  5.979504e+08   -473.291667   \n",
      "default payment next month -5.000000e-01 -5.555556e+02      0.055556   \n",
      "\n",
      "                               EDUCATION      MARRIAGE         AGE  \\\n",
      "ID                          7.500000e-01 -2.775558e-17      -4.750   \n",
      "LIMIT_BAL                  -4.875000e+04  1.666667e+04 -491250.000   \n",
      "SEX                         1.250000e-01 -4.166667e-02      -2.750   \n",
      "EDUCATION                   5.000000e-01 -1.250000e-01      -0.375   \n",
      "MARRIAGE                   -1.250000e-01  2.500000e-01      -2.500   \n",
      "AGE                        -3.750000e-01 -2.500000e+00      99.250   \n",
      "PAY_0                      -2.500000e-01 -4.166667e-02      -2.125   \n",
      "PAY_2                      -2.500000e-01 -4.166667e-02      -0.875   \n",
      "PAY_3                       2.775558e-17 -2.083333e-01      -3.250   \n",
      "PAY_4                      -2.500000e-01 -8.333333e-02      -0.250   \n",
      "PAY_5                      -1.250000e-01 -4.166667e-02      -0.125   \n",
      "PAY_6                      -1.250000e-01  0.000000e+00      -0.750   \n",
      "BILL_AMT1                  -5.263500e+04  1.426575e+04 -190908.250   \n",
      "BILL_AMT2                  -5.687450e+04  1.455108e+04 -214544.375   \n",
      "BILL_AMT3                  -6.131338e+04  1.354121e+04 -147606.000   \n",
      "BILL_AMT4                  -6.872950e+04  1.903921e+04 -273799.250   \n",
      "BILL_AMT5                  -5.972775e+04  1.725321e+04 -239070.625   \n",
      "BILL_AMT6                  -5.954212e+04  1.760262e+04 -227715.125   \n",
      "PAY_AMT1                   -6.771375e+03  1.864167e+03  -29956.750   \n",
      "PAY_AMT2                   -5.226875e+03 -1.353500e+03   80069.250   \n",
      "PAY_AMT3                   -4.778125e+03  7.247083e+02    4372.375   \n",
      "PAY_AMT4                   -9.040000e+02  6.094583e+02   13090.125   \n",
      "PAY_AMT5                   -1.578500e+03  5.434583e+02   -8766.375   \n",
      "PAY_AMT6                   -1.696250e+03  7.397500e+02  -10849.375   \n",
      "default payment next month  0.000000e+00  4.166667e-02      -1.000   \n",
      "\n",
      "                                   PAY_0         PAY_2         PAY_3  \\\n",
      "ID                             -0.375000     -2.250000 -3.750000e-01   \n",
      "LIMIT_BAL                   35972.222222  28055.555556  4.236111e+04   \n",
      "SEX                             0.152778      0.194444  2.638889e-01   \n",
      "EDUCATION                      -0.250000     -0.250000  2.775558e-17   \n",
      "MARRIAGE                       -0.041667     -0.041667 -2.083333e-01   \n",
      "AGE                            -2.125000     -0.875000 -3.250000e+00   \n",
      "PAY_0                           0.527778      0.194444  5.138889e-01   \n",
      "PAY_2                           0.194444      1.111111  5.972222e-01   \n",
      "PAY_3                           0.513889      0.597222  1.194444e+00   \n",
      "PAY_4                           0.388889      0.472222  4.444444e-01   \n",
      "PAY_5                           0.194444      0.236111  2.222222e-01   \n",
      "PAY_6                           0.000000      0.875000  3.750000e-01   \n",
      "BILL_AMT1                   28757.291667   6728.416667  1.534446e+04   \n",
      "BILL_AMT2                   29810.236111   8067.402778  1.813506e+04   \n",
      "BILL_AMT3                   29445.986111   9160.527778  1.560281e+04   \n",
      "BILL_AMT4                   32603.277778   9697.819444  1.822251e+04   \n",
      "BILL_AMT5                   26910.402778   5878.694444  1.381676e+04   \n",
      "BILL_AMT6                   25926.000000   5317.125000  1.109100e+04   \n",
      "PAY_AMT1                     3457.055556    879.263889  2.388278e+03   \n",
      "PAY_AMT2                      -64.791667   1336.208333 -2.337583e+03   \n",
      "PAY_AMT3                     1529.944444    976.236111  3.104722e+02   \n",
      "PAY_AMT4                    -1839.138889  -2408.722222 -2.868069e+03   \n",
      "PAY_AMT5                      817.652778   -195.305556  2.646389e+02   \n",
      "PAY_AMT6                     1097.958333    665.458333  6.887917e+02   \n",
      "default payment next month     -0.069444      0.263889  2.777778e-02   \n",
      "\n",
      "                                   PAY_4  ...     BILL_AMT4     BILL_AMT5  \\\n",
      "ID                             -1.000000  ...  5.575988e+04  5.429550e+04   \n",
      "LIMIT_BAL                   26111.111111  ...  2.479528e+10  2.183142e+10   \n",
      "SEX                             0.138889  ... -3.724360e+04 -3.385960e+04   \n",
      "EDUCATION                      -0.250000  ... -6.872950e+04 -5.972775e+04   \n",
      "MARRIAGE                       -0.083333  ...  1.903921e+04  1.725321e+04   \n",
      "AGE                            -0.250000  ... -2.737992e+05 -2.390706e+05   \n",
      "PAY_0                           0.388889  ...  3.260328e+04  2.691040e+04   \n",
      "PAY_2                           0.472222  ...  9.697819e+03  5.878694e+03   \n",
      "PAY_3                           0.444444  ...  1.822251e+04  1.381676e+04   \n",
      "PAY_4                           0.444444  ...  1.781489e+04  1.324189e+04   \n",
      "PAY_5                           0.222222  ...  8.907444e+03  6.620944e+03   \n",
      "PAY_6                           0.250000  ...  7.903750e+02 -7.422500e+02   \n",
      "BILL_AMT1                   15084.833333  ...  2.053845e+10  1.815840e+10   \n",
      "BILL_AMT2                   15367.305556  ...  2.339165e+10  2.068956e+10   \n",
      "BILL_AMT3                   17130.305556  ...  2.514420e+10  2.223152e+10   \n",
      "BILL_AMT4                   17814.888889  ...  3.134406e+10  2.772025e+10   \n",
      "BILL_AMT5                   13241.888889  ...  2.772025e+10  2.453149e+10   \n",
      "BILL_AMT6                   12623.500000  ...  2.722323e+10  2.409464e+10   \n",
      "PAY_AMT1                     1853.527778  ...  3.162558e+09  2.796253e+09   \n",
      "PAY_AMT2                     2322.666667  ...  2.079131e+09  1.828218e+09   \n",
      "PAY_AMT3                     1452.472222  ...  2.146715e+09  1.895871e+09   \n",
      "PAY_AMT4                    -1920.444444  ...  9.795549e+08  8.795761e+08   \n",
      "PAY_AMT5                      311.638889  ...  7.541804e+08  6.674683e+08   \n",
      "PAY_AMT6                      716.416667  ...  7.229094e+08  6.375317e+08   \n",
      "default payment next month      0.027778  ... -8.498444e+03 -7.814944e+03   \n",
      "\n",
      "                               BILL_AMT6      PAY_AMT1      PAY_AMT2  \\\n",
      "ID                          5.049588e+04  6.899125e+03 -1.002125e+03   \n",
      "LIMIT_BAL                   2.136484e+10  2.520234e+09  1.491913e+09   \n",
      "SEX                        -3.367338e+04 -3.730444e+03 -5.166667e+03   \n",
      "EDUCATION                  -5.954212e+04 -6.771375e+03 -5.226875e+03   \n",
      "MARRIAGE                    1.760262e+04  1.864167e+03 -1.353500e+03   \n",
      "AGE                        -2.277151e+05 -2.995675e+04  8.006925e+04   \n",
      "PAY_0                       2.592600e+04  3.457056e+03 -6.479167e+01   \n",
      "PAY_2                       5.317125e+03  8.792639e+02  1.336208e+03   \n",
      "PAY_3                       1.109100e+04  2.388278e+03 -2.337583e+03   \n",
      "PAY_4                       1.262350e+04  1.853528e+03  2.322667e+03   \n",
      "PAY_5                       6.311750e+03  9.267639e+02  1.161333e+03   \n",
      "PAY_6                      -9.946250e+02 -4.750000e+01  1.748750e+02   \n",
      "BILL_AMT1                   1.784672e+10  2.071311e+09  1.281848e+09   \n",
      "BILL_AMT2                   2.032471e+10  2.359806e+09  1.471631e+09   \n",
      "BILL_AMT3                   2.184378e+10  2.534820e+09  1.701591e+09   \n",
      "BILL_AMT4                   2.722323e+10  3.162558e+09  2.079131e+09   \n",
      "BILL_AMT5                   2.409464e+10  2.796253e+09  1.828218e+09   \n",
      "BILL_AMT6                   2.367373e+10  2.744115e+09  1.799632e+09   \n",
      "PAY_AMT1                    2.744115e+09  3.197574e+08  2.080631e+08   \n",
      "PAY_AMT2                    1.799632e+09  2.080631e+08  2.724536e+08   \n",
      "PAY_AMT3                    1.862811e+09  2.161653e+08  1.758907e+08   \n",
      "PAY_AMT4                    8.667353e+08  9.819708e+07  8.766254e+07   \n",
      "PAY_AMT5                    6.555515e+08  7.621343e+07  4.796391e+07   \n",
      "PAY_AMT6                    6.265663e+08  7.287445e+07  4.374857e+07   \n",
      "default payment next month -7.643125e+03 -9.267639e+02 -1.036333e+03   \n",
      "\n",
      "                                PAY_AMT3      PAY_AMT4      PAY_AMT5  \\\n",
      "ID                          2.487000e+03  7.278625e+03  2.348125e+03   \n",
      "LIMIT_BAL                   1.669532e+09  6.723114e+08  5.976572e+08   \n",
      "SEX                        -3.177181e+03 -2.743139e+03 -8.858472e+02   \n",
      "EDUCATION                  -4.778125e+03 -9.040000e+02 -1.578500e+03   \n",
      "MARRIAGE                    7.247083e+02  6.094583e+02  5.434583e+02   \n",
      "AGE                         4.372375e+03  1.309012e+04 -8.766375e+03   \n",
      "PAY_0                       1.529944e+03 -1.839139e+03  8.176528e+02   \n",
      "PAY_2                       9.762361e+02 -2.408722e+03 -1.953056e+02   \n",
      "PAY_3                       3.104722e+02 -2.868069e+03  2.646389e+02   \n",
      "PAY_4                       1.452472e+03 -1.920444e+03  3.116389e+02   \n",
      "PAY_5                       7.262361e+02 -9.602222e+02  1.558194e+02   \n",
      "PAY_6                       2.500000e+02 -1.448500e+03 -3.511250e+02   \n",
      "BILL_AMT1                   1.381156e+09  5.998885e+08  4.942992e+08   \n",
      "BILL_AMT2                   1.577078e+09  6.980153e+08  5.620347e+08   \n",
      "BILL_AMT3                   1.725522e+09  7.731902e+08  6.024813e+08   \n",
      "BILL_AMT4                   2.146715e+09  9.795549e+08  7.541804e+08   \n",
      "BILL_AMT5                   1.895871e+09  8.795761e+08  6.674683e+08   \n",
      "BILL_AMT6                   1.862811e+09  8.667353e+08  6.555515e+08   \n",
      "PAY_AMT1                    2.161653e+08  9.819708e+07  7.621343e+07   \n",
      "PAY_AMT2                    1.758907e+08  8.766254e+07  4.796391e+07   \n",
      "PAY_AMT3                    1.555331e+08  7.313006e+07  5.111405e+07   \n",
      "PAY_AMT4                    7.313006e+07  5.126560e+07  2.383992e+07   \n",
      "PAY_AMT5                    5.111405e+07  2.383992e+07  1.841179e+07   \n",
      "PAY_AMT6                    4.867059e+07  1.978189e+07  1.739853e+07   \n",
      "default payment next month -6.012361e+02 -5.406528e+02 -2.960694e+02   \n",
      "\n",
      "                                PAY_AMT6  default payment next month  \n",
      "ID                         -7.281250e+02                   -0.500000  \n",
      "LIMIT_BAL                   5.979504e+08                 -555.555556  \n",
      "SEX                        -4.732917e+02                    0.055556  \n",
      "EDUCATION                  -1.696250e+03                    0.000000  \n",
      "MARRIAGE                    7.397500e+02                    0.041667  \n",
      "AGE                        -1.084938e+04                   -1.000000  \n",
      "PAY_0                       1.097958e+03                   -0.069444  \n",
      "PAY_2                       6.654583e+02                    0.263889  \n",
      "PAY_3                       6.887917e+02                    0.027778  \n",
      "PAY_4                       7.164167e+02                    0.027778  \n",
      "PAY_5                       3.582083e+02                    0.013889  \n",
      "PAY_6                       3.072500e+02                    0.250000  \n",
      "BILL_AMT1                   4.745230e+08                -7207.166667  \n",
      "BILL_AMT2                   5.342761e+08                -7468.027778  \n",
      "BILL_AMT3                   5.708023e+08                -8229.902778  \n",
      "BILL_AMT4                   7.229094e+08                -8498.444444  \n",
      "BILL_AMT5                   6.375317e+08                -7814.944444  \n",
      "BILL_AMT6                   6.265663e+08                -7643.125000  \n",
      "PAY_AMT1                    7.287445e+07                 -926.763889  \n",
      "PAY_AMT2                    4.374857e+07                -1036.333333  \n",
      "PAY_AMT3                    4.867059e+07                 -601.236111  \n",
      "PAY_AMT4                    1.978189e+07                 -540.652778  \n",
      "PAY_AMT5                    1.739853e+07                 -296.069444  \n",
      "PAY_AMT6                    1.877291e+07                 -108.208333  \n",
      "default payment next month -1.082083e+02                    0.111111  \n",
      "\n",
      "[25 rows x 25 columns]\n"
     ]
    }
   ],
   "source": [
    "covMat = credit.iloc[1:10].cov()\n",
    "print(covMat)"
   ]
  },
  {
   "cell_type": "markdown",
   "metadata": {},
   "source": [
    "## Transformation of Data"
   ]
  },
  {
   "cell_type": "code",
   "execution_count": 312,
   "metadata": {},
   "outputs": [],
   "source": [
    "credit[\"SEX\"] = credit[\"SEX\"].astype(\"category\")\n",
    "credit[\"EDUCATION\"] = credit[\"EDUCATION\"].astype(\"category\")\n",
    "credit[\"MARRIAGE\"] = credit[\"MARRIAGE\"].astype(\"category\")\n",
    "credit[\"PAY_0\"] = credit[\"PAY_0\"].astype(\"category\")\n",
    "credit[\"PAY_2\"] = credit[\"PAY_2\"].astype(\"category\")\n",
    "credit[\"PAY_3\"] = credit[\"PAY_3\"].astype(\"category\")\n",
    "credit[\"PAY_4\"] = credit[\"PAY_4\"].astype(\"category\")\n",
    "credit[\"PAY_5\"] = credit[\"PAY_5\"].astype(\"category\")\n",
    "credit[\"PAY_6\"] = credit[\"PAY_6\"].astype(\"category\")\n",
    "\n"
   ]
  },
  {
   "cell_type": "code",
   "execution_count": 313,
   "metadata": {},
   "outputs": [],
   "source": [
    "credit = credit[(credit[['BILL_AMT1','BILL_AMT2', 'BILL_AMT3','BILL_AMT4', 'BILL_AMT5','BILL_AMT6', \n",
    "             'PAY_AMT1','PAY_AMT2', 'PAY_AMT3',\n",
    "             'PAY_AMT4', 'PAY_AMT5','PAY_AMT6']] != 0).all(axis=1)]"
   ]
  },
  {
   "cell_type": "code",
   "execution_count": 314,
   "metadata": {},
   "outputs": [],
   "source": [
    "credit[\"SEX\"].replace(to_replace=1, value='male', inplace=True)\n",
    "credit[\"SEX\"].replace(to_replace=2, value='female', inplace=True)\n",
    "\n",
    "credit[\"EDUCATION\"].replace(to_replace=1, value='graduate school', inplace=True)\n",
    "credit[\"EDUCATION\"].replace(to_replace=2, value='university', inplace=True)\n",
    "credit[\"EDUCATION\"].replace(to_replace=3, value='high school', inplace=True)\n",
    "\n",
    "credit[\"EDUCATION\"].replace(to_replace=0, value='others', inplace=True)\n",
    "credit[\"EDUCATION\"].replace(to_replace=4, value='others', inplace=True)\n",
    "credit[\"EDUCATION\"].replace(to_replace=5, value='others', inplace=True)\n",
    "credit[\"EDUCATION\"].replace(to_replace=6, value='others', inplace=True)\n",
    "\n",
    "credit[\"MARRIAGE\"].replace(to_replace=1, value='married', inplace=True)\n",
    "credit[\"MARRIAGE\"].replace(to_replace=2, value='single', inplace=True)\n",
    "credit[\"MARRIAGE\"].replace(to_replace=3, value='divorce', inplace=True)\n",
    "credit[\"MARRIAGE\"].replace(to_replace=0, value='others', inplace=True)\n",
    "\n",
    "credit[\"PAY_0\"].replace(to_replace=-2, value='No consumption', inplace=True)\n",
    "credit[\"PAY_0\"].replace(to_replace=-1, value='Paid in full', inplace=True)\n",
    "credit[\"PAY_0\"].replace(to_replace=0, value='The use of revolving credit', inplace=True)\n",
    "credit[\"PAY_0\"].replace(to_replace=1, value=' payment delay for one month', inplace=True)\n",
    "credit[\"PAY_0\"].replace(to_replace=2, value=' payment delay for two months', inplace=True)\n",
    "credit[\"PAY_0\"].replace(to_replace=3, value=' payment delay for three months', inplace=True)\n",
    "credit[\"PAY_0\"].replace(to_replace=4, value=' payment delay for four months', inplace=True)\n",
    "credit[\"PAY_0\"].replace(to_replace=5, value=' payment delay for five months', inplace=True)\n",
    "credit[\"PAY_0\"].replace(to_replace=6, value=' payment delay for six months', inplace=True)\n",
    "credit[\"PAY_0\"].replace(to_replace=7, value=' payment delay for seven months', inplace=True)\n",
    "credit[\"PAY_0\"].replace(to_replace=8, value=' payment delay for eight months', inplace=True)\n",
    "credit[\"PAY_0\"].replace(to_replace=9, value=' payment delay for nine months', inplace=True)\n",
    "\n",
    "credit[\"PAY_2\"].replace(to_replace=-2, value='No consumption', inplace=True)\n",
    "credit[\"PAY_2\"].replace(to_replace=-1, value='Paid in full', inplace=True)\n",
    "credit[\"PAY_2\"].replace(to_replace=0, value='The use of revolving credit', inplace=True)\n",
    "credit[\"PAY_2\"].replace(to_replace=1, value=' payment delay for one month', inplace=True)\n",
    "credit[\"PAY_2\"].replace(to_replace=2, value=' payment delay for two months', inplace=True)\n",
    "credit[\"PAY_2\"].replace(to_replace=3, value=' payment delay for three months', inplace=True)\n",
    "credit[\"PAY_2\"].replace(to_replace=4, value=' payment delay for four months', inplace=True)\n",
    "credit[\"PAY_2\"].replace(to_replace=5, value=' payment delay for five months', inplace=True)\n",
    "credit[\"PAY_2\"].replace(to_replace=6, value=' payment delay for six months', inplace=True)\n",
    "credit[\"PAY_2\"].replace(to_replace=7, value=' payment delay for seven months', inplace=True)\n",
    "credit[\"PAY_2\"].replace(to_replace=8, value=' payment delay for eight months', inplace=True)\n",
    "credit[\"PAY_2\"].replace(to_replace=9, value=' payment delay for nine months', inplace=True)\n",
    "\n",
    "credit[\"PAY_3\"].replace(to_replace=-2, value='No consumption', inplace=True)\n",
    "credit[\"PAY_3\"].replace(to_replace=-1, value='Paid in full', inplace=True)\n",
    "credit[\"PAY_3\"].replace(to_replace=0, value='The use of revolving credit', inplace=True)\n",
    "credit[\"PAY_3\"].replace(to_replace=1, value=' payment delay for one month', inplace=True)\n",
    "credit[\"PAY_3\"].replace(to_replace=2, value=' payment delay for two months', inplace=True)\n",
    "credit[\"PAY_3\"].replace(to_replace=3, value=' payment delay for three months', inplace=True)\n",
    "credit[\"PAY_3\"].replace(to_replace=4, value=' payment delay for four months', inplace=True)\n",
    "credit[\"PAY_3\"].replace(to_replace=5, value=' payment delay for five months', inplace=True)\n",
    "credit[\"PAY_3\"].replace(to_replace=6, value=' payment delay for six months', inplace=True)\n",
    "credit[\"PAY_3\"].replace(to_replace=7, value=' payment delay for seven months', inplace=True)\n",
    "credit[\"PAY_3\"].replace(to_replace=8, value=' payment delay for eight months', inplace=True)\n",
    "credit[\"PAY_3\"].replace(to_replace=9, value=' payment delay for nine months', inplace=True)\n",
    "\n",
    "credit[\"PAY_4\"].replace(to_replace=-2, value='No consumption', inplace=True)\n",
    "credit[\"PAY_4\"].replace(to_replace=-1, value='Paid in full', inplace=True)\n",
    "credit[\"PAY_4\"].replace(to_replace=0, value='The use of revolving credit', inplace=True)\n",
    "credit[\"PAY_4\"].replace(to_replace=1, value=' payment delay for one month', inplace=True)\n",
    "credit[\"PAY_4\"].replace(to_replace=2, value=' payment delay for two months', inplace=True)\n",
    "credit[\"PAY_4\"].replace(to_replace=3, value=' payment delay for three months', inplace=True)\n",
    "credit[\"PAY_4\"].replace(to_replace=4, value=' payment delay for four months', inplace=True)\n",
    "credit[\"PAY_4\"].replace(to_replace=5, value=' payment delay for five months', inplace=True)\n",
    "credit[\"PAY_4\"].replace(to_replace=6, value=' payment delay for six months', inplace=True)\n",
    "credit[\"PAY_4\"].replace(to_replace=7, value=' payment delay for seven months', inplace=True)\n",
    "credit[\"PAY_4\"].replace(to_replace=8, value=' payment delay for eight months', inplace=True)\n",
    "credit[\"PAY_4\"].replace(to_replace=9, value=' payment delay for nine months', inplace=True)\n",
    "\n",
    "credit[\"PAY_5\"].replace(to_replace=-2, value='No consumption', inplace=True)\n",
    "credit[\"PAY_5\"].replace(to_replace=-1, value='Paid in full', inplace=True)\n",
    "credit[\"PAY_5\"].replace(to_replace=0, value='The use of revolving credit', inplace=True)\n",
    "credit[\"PAY_5\"].replace(to_replace=1, value=' payment delay for one month', inplace=True)\n",
    "credit[\"PAY_5\"].replace(to_replace=2, value=' payment delay for two months', inplace=True)\n",
    "credit[\"PAY_5\"].replace(to_replace=3, value=' payment delay for three months', inplace=True)\n",
    "credit[\"PAY_5\"].replace(to_replace=4, value=' payment delay for four months', inplace=True)\n",
    "credit[\"PAY_5\"].replace(to_replace=5, value=' payment delay for five months', inplace=True)\n",
    "credit[\"PAY_5\"].replace(to_replace=6, value=' payment delay for six months', inplace=True)\n",
    "credit[\"PAY_5\"].replace(to_replace=7, value=' payment delay for seven months', inplace=True)\n",
    "credit[\"PAY_5\"].replace(to_replace=8, value=' payment delay for eight months', inplace=True)\n",
    "credit[\"PAY_5\"].replace(to_replace=9, value=' payment delay for nine months', inplace=True)\n",
    "\n",
    "credit[\"PAY_6\"].replace(to_replace=-2, value='No consumption', inplace=True)\n",
    "credit[\"PAY_6\"].replace(to_replace=-1, value='Paid in full', inplace=True)\n",
    "credit[\"PAY_6\"].replace(to_replace=0, value='The use of revolving credit', inplace=True)\n",
    "credit[\"PAY_6\"].replace(to_replace=1, value=' payment delay for one month', inplace=True)\n",
    "credit[\"PAY_6\"].replace(to_replace=2, value=' payment delay for two months', inplace=True)\n",
    "credit[\"PAY_6\"].replace(to_replace=3, value=' payment delay for three months', inplace=True)\n",
    "credit[\"PAY_6\"].replace(to_replace=4, value=' payment delay for four months', inplace=True)\n",
    "credit[\"PAY_6\"].replace(to_replace=5, value=' payment delay for five months', inplace=True)\n",
    "credit[\"PAY_6\"].replace(to_replace=6, value=' payment delay for six months', inplace=True)\n",
    "credit[\"PAY_6\"].replace(to_replace=7, value=' payment delay for seven months', inplace=True)\n",
    "credit[\"PAY_6\"].replace(to_replace=8, value=' payment delay for eight months', inplace=True)\n",
    "credit[\"PAY_6\"].replace(to_replace=9, value=' payment delay for nine months', inplace=True)\n"
   ]
  },
  {
   "cell_type": "markdown",
   "metadata": {},
   "source": [
    "## Analysis"
   ]
  },
  {
   "cell_type": "markdown",
   "metadata": {},
   "source": [
    "### Number of people per gender"
   ]
  },
  {
   "cell_type": "code",
   "execution_count": 315,
   "metadata": {},
   "outputs": [
    {
     "data": {
      "text/plain": [
       "SEX\n",
       "female    9231\n",
       "male      6105\n",
       "Name: SEX, dtype: int64"
      ]
     },
     "execution_count": 315,
     "metadata": {},
     "output_type": "execute_result"
    }
   ],
   "source": [
    "credit.groupby('SEX')['SEX'].count()"
   ]
  },
  {
   "cell_type": "code",
   "execution_count": 316,
   "metadata": {},
   "outputs": [
    {
     "data": {
      "text/plain": [
       "<seaborn.axisgrid.FacetGrid at 0x1a2da62c50>"
      ]
     },
     "execution_count": 316,
     "metadata": {},
     "output_type": "execute_result"
    },
    {
     "data": {
      "image/png": "[encoded data removed]",
      "text/plain": [
       "<Figure size 540x360 with 1 Axes>"
      ]
     },
     "metadata": {
      "needs_background": "light"
     },
     "output_type": "display_data"
    }
   ],
   "source": [
    "fg = sns.factorplot('SEX', data=credit, kind='count', aspect=1.5)\n",
    "fg.set_xlabels('Class')"
   ]
  },
  {
   "cell_type": "markdown",
   "metadata": {},
   "source": [
    "### Number of people per education level"
   ]
  },
  {
   "cell_type": "code",
   "execution_count": 317,
   "metadata": {},
   "outputs": [
    {
     "data": {
      "text/plain": [
       "EDUCATION\n",
       "graduate school    5252\n",
       "high school        2463\n",
       "others              259\n",
       "university         7362\n",
       "Name: EDUCATION, dtype: int64"
      ]
     },
     "execution_count": 317,
     "metadata": {},
     "output_type": "execute_result"
    }
   ],
   "source": [
    "credit.groupby('EDUCATION')['EDUCATION'].count()"
   ]
  },
  {
   "cell_type": "code",
   "execution_count": 318,
   "metadata": {},
   "outputs": [
    {
     "data": {
      "text/plain": [
       "<seaborn.axisgrid.FacetGrid at 0x1a2d9f3710>"
      ]
     },
     "execution_count": 318,
     "metadata": {},
     "output_type": "execute_result"
    },
    {
     "data": {
      "image/png": "[encoded data removed]",
      "text/plain": [
       "<Figure size 540x360 with 1 Axes>"
      ]
     },
     "metadata": {
      "needs_background": "light"
     },
     "output_type": "display_data"
    }
   ],
   "source": [
    "fg = sns.factorplot('EDUCATION', data=credit, kind='count', aspect=1.5)\n",
    "fg.set_xlabels('Class')"
   ]
  },
  {
   "cell_type": "markdown",
   "metadata": {},
   "source": [
    "### Number of people per gender and education level"
   ]
  },
  {
   "cell_type": "code",
   "execution_count": 319,
   "metadata": {},
   "outputs": [
    {
     "data": {
      "text/plain": [
       "SEX     EDUCATION      \n",
       "female  graduate school    3002\n",
       "        high school        1476\n",
       "        others              171\n",
       "        university         4582\n",
       "male    graduate school    2250\n",
       "        high school         987\n",
       "        others               88\n",
       "        university         2780\n",
       "Name: SEX, dtype: int64"
      ]
     },
     "execution_count": 319,
     "metadata": {},
     "output_type": "execute_result"
    }
   ],
   "source": [
    "credit.groupby(['SEX', 'EDUCATION'])['SEX'].count()"
   ]
  },
  {
   "cell_type": "code",
   "execution_count": 320,
   "metadata": {},
   "outputs": [
    {
     "data": {
      "text/plain": [
       "<seaborn.axisgrid.FacetGrid at 0x1a2da13240>"
      ]
     },
     "execution_count": 320,
     "metadata": {},
     "output_type": "execute_result"
    },
    {
     "data": {
      "image/png": "[encoded data removed]",
      "text/plain": [
       "<Figure size 700.5x360 with 1 Axes>"
      ]
     },
     "metadata": {
      "needs_background": "light"
     },
     "output_type": "display_data"
    }
   ],
   "source": [
    "g = sns.factorplot('EDUCATION', data=credit, hue='SEX', kind='count', aspect=1.75)\n",
    "g.set_xlabels('Class')"
   ]
  },
  {
   "cell_type": "markdown",
   "metadata": {},
   "source": [
    "### Number of people who have default payment grouped by gender and education level"
   ]
  },
  {
   "cell_type": "code",
   "execution_count": 321,
   "metadata": {},
   "outputs": [
    {
     "data": {
      "text/html": [
       "<div>\n",
       "<style scoped>\n",
       "    .dataframe tbody tr th:only-of-type {\n",
       "        vertical-align: middle;\n",
       "    }\n",
       "\n",
       "    .dataframe tbody tr th {\n",
       "        vertical-align: top;\n",
       "    }\n",
       "\n",
       "    .dataframe thead th {\n",
       "        text-align: right;\n",
       "    }\n",
       "</style>\n",
       "<table border=\"1\" class=\"dataframe\">\n",
       "  <thead>\n",
       "    <tr style=\"text-align: right;\">\n",
       "      <th>EDUCATION</th>\n",
       "      <th>graduate school</th>\n",
       "      <th>high school</th>\n",
       "      <th>others</th>\n",
       "      <th>university</th>\n",
       "      <th>All</th>\n",
       "    </tr>\n",
       "    <tr>\n",
       "      <th>SEX</th>\n",
       "      <th></th>\n",
       "      <th></th>\n",
       "      <th></th>\n",
       "      <th></th>\n",
       "      <th></th>\n",
       "    </tr>\n",
       "  </thead>\n",
       "  <tbody>\n",
       "    <tr>\n",
       "      <th>female</th>\n",
       "      <td>315</td>\n",
       "      <td>221</td>\n",
       "      <td>9</td>\n",
       "      <td>649</td>\n",
       "      <td>1194</td>\n",
       "    </tr>\n",
       "    <tr>\n",
       "      <th>male</th>\n",
       "      <td>286</td>\n",
       "      <td>172</td>\n",
       "      <td>7</td>\n",
       "      <td>479</td>\n",
       "      <td>944</td>\n",
       "    </tr>\n",
       "    <tr>\n",
       "      <th>All</th>\n",
       "      <td>601</td>\n",
       "      <td>393</td>\n",
       "      <td>16</td>\n",
       "      <td>1128</td>\n",
       "      <td>2138</td>\n",
       "    </tr>\n",
       "  </tbody>\n",
       "</table>\n",
       "</div>"
      ],
      "text/plain": [
       "EDUCATION  graduate school  high school  others  university   All\n",
       "SEX                                                              \n",
       "female                 315          221       9         649  1194\n",
       "male                   286          172       7         479   944\n",
       "All                    601          393      16        1128  2138"
      ]
     },
     "execution_count": 321,
     "metadata": {},
     "output_type": "execute_result"
    }
   ],
   "source": [
    "credit.pivot_table('default payment next month', 'SEX', 'EDUCATION', aggfunc=np.sum, margins=True)"
   ]
  },
  {
   "cell_type": "code",
   "execution_count": 322,
   "metadata": {},
   "outputs": [],
   "source": [
    "not_default = credit[credit['default payment next month']==0]"
   ]
  },
  {
   "cell_type": "code",
   "execution_count": 323,
   "metadata": {},
   "outputs": [
    {
     "data": {
      "text/plain": [
       "<seaborn.axisgrid.FacetGrid at 0x1a2d9d5550>"
      ]
     },
     "execution_count": 323,
     "metadata": {},
     "output_type": "execute_result"
    },
    {
     "data": {
      "image/png": "[encoded data removed]",
      "text/plain": [
       "<Figure size 360x360 with 1 Axes>"
      ]
     },
     "metadata": {
      "needs_background": "light"
     },
     "output_type": "display_data"
    }
   ],
   "source": [
    "sns.factorplot('default payment next month', data=credit, kind='count')"
   ]
  },
  {
   "cell_type": "markdown",
   "metadata": {},
   "source": [
    "### Number of people who have not default payment "
   ]
  },
  {
   "cell_type": "code",
   "execution_count": 324,
   "metadata": {},
   "outputs": [
    {
     "data": {
      "text/plain": [
       "13198"
      ]
     },
     "execution_count": 324,
     "metadata": {},
     "output_type": "execute_result"
    }
   ],
   "source": [
    "len(not_default)"
   ]
  },
  {
   "cell_type": "markdown",
   "metadata": {},
   "source": [
    "### Number of people who have not default payment grouped by gender and education level"
   ]
  },
  {
   "cell_type": "code",
   "execution_count": 325,
   "metadata": {},
   "outputs": [
    {
     "data": {
      "text/html": [
       "<div>\n",
       "<style scoped>\n",
       "    .dataframe tbody tr th:only-of-type {\n",
       "        vertical-align: middle;\n",
       "    }\n",
       "\n",
       "    .dataframe tbody tr th {\n",
       "        vertical-align: top;\n",
       "    }\n",
       "\n",
       "    .dataframe thead th {\n",
       "        text-align: right;\n",
       "    }\n",
       "</style>\n",
       "<table border=\"1\" class=\"dataframe\">\n",
       "  <thead>\n",
       "    <tr style=\"text-align: right;\">\n",
       "      <th>EDUCATION</th>\n",
       "      <th>graduate school</th>\n",
       "      <th>high school</th>\n",
       "      <th>others</th>\n",
       "      <th>university</th>\n",
       "      <th>All</th>\n",
       "    </tr>\n",
       "    <tr>\n",
       "      <th>SEX</th>\n",
       "      <th></th>\n",
       "      <th></th>\n",
       "      <th></th>\n",
       "      <th></th>\n",
       "      <th></th>\n",
       "    </tr>\n",
       "  </thead>\n",
       "  <tbody>\n",
       "    <tr>\n",
       "      <th>female</th>\n",
       "      <td>2687</td>\n",
       "      <td>1255</td>\n",
       "      <td>162</td>\n",
       "      <td>3933</td>\n",
       "      <td>8037</td>\n",
       "    </tr>\n",
       "    <tr>\n",
       "      <th>male</th>\n",
       "      <td>1964</td>\n",
       "      <td>815</td>\n",
       "      <td>81</td>\n",
       "      <td>2301</td>\n",
       "      <td>5161</td>\n",
       "    </tr>\n",
       "    <tr>\n",
       "      <th>All</th>\n",
       "      <td>4651</td>\n",
       "      <td>2070</td>\n",
       "      <td>243</td>\n",
       "      <td>6234</td>\n",
       "      <td>13198</td>\n",
       "    </tr>\n",
       "  </tbody>\n",
       "</table>\n",
       "</div>"
      ],
      "text/plain": [
       "EDUCATION  graduate school  high school  others  university    All\n",
       "SEX                                                               \n",
       "female                2687         1255     162        3933   8037\n",
       "male                  1964          815      81        2301   5161\n",
       "All                   4651         2070     243        6234  13198"
      ]
     },
     "execution_count": 325,
     "metadata": {},
     "output_type": "execute_result"
    }
   ],
   "source": [
    "not_default.pivot_table('default payment next month', 'SEX', 'EDUCATION', aggfunc=len, margins=True)"
   ]
  },
  {
   "cell_type": "markdown",
   "metadata": {},
   "source": [
    "### Number of people per education level and marriage status"
   ]
  },
  {
   "cell_type": "code",
   "execution_count": 326,
   "metadata": {},
   "outputs": [],
   "source": [
    "table = pd.crosstab(index=[credit['default payment next month'],credit.EDUCATION], columns=[credit.SEX,credit.MARRIAGE])"
   ]
  },
  {
   "cell_type": "code",
   "execution_count": 327,
   "metadata": {},
   "outputs": [
    {
     "data": {
      "text/html": [
       "<div>\n",
       "<style scoped>\n",
       "    .dataframe tbody tr th:only-of-type {\n",
       "        vertical-align: middle;\n",
       "    }\n",
       "\n",
       "    .dataframe tbody tr th {\n",
       "        vertical-align: top;\n",
       "    }\n",
       "\n",
       "    .dataframe thead tr th {\n",
       "        text-align: left;\n",
       "    }\n",
       "\n",
       "    .dataframe thead tr:last-of-type th {\n",
       "        text-align: right;\n",
       "    }\n",
       "</style>\n",
       "<table border=\"1\" class=\"dataframe\">\n",
       "  <thead>\n",
       "    <tr>\n",
       "      <th>SEX</th>\n",
       "      <th colspan=\"10\" halign=\"left\">female</th>\n",
       "      <th>...</th>\n",
       "      <th colspan=\"10\" halign=\"left\">male</th>\n",
       "    </tr>\n",
       "    <tr>\n",
       "      <th>MARRIAGE</th>\n",
       "      <th colspan=\"4\" halign=\"left\">divorce</th>\n",
       "      <th colspan=\"4\" halign=\"left\">married</th>\n",
       "      <th colspan=\"2\" halign=\"left\">others</th>\n",
       "      <th>...</th>\n",
       "      <th colspan=\"2\" halign=\"left\">married</th>\n",
       "      <th colspan=\"4\" halign=\"left\">others</th>\n",
       "      <th colspan=\"4\" halign=\"left\">single</th>\n",
       "    </tr>\n",
       "    <tr>\n",
       "      <th>EDUCATION</th>\n",
       "      <th>graduate school</th>\n",
       "      <th>high school</th>\n",
       "      <th>others</th>\n",
       "      <th>university</th>\n",
       "      <th>graduate school</th>\n",
       "      <th>high school</th>\n",
       "      <th>others</th>\n",
       "      <th>university</th>\n",
       "      <th>graduate school</th>\n",
       "      <th>high school</th>\n",
       "      <th>...</th>\n",
       "      <th>others</th>\n",
       "      <th>university</th>\n",
       "      <th>graduate school</th>\n",
       "      <th>high school</th>\n",
       "      <th>others</th>\n",
       "      <th>university</th>\n",
       "      <th>graduate school</th>\n",
       "      <th>high school</th>\n",
       "      <th>others</th>\n",
       "      <th>university</th>\n",
       "    </tr>\n",
       "    <tr>\n",
       "      <th>default payment next month</th>\n",
       "      <th></th>\n",
       "      <th></th>\n",
       "      <th></th>\n",
       "      <th></th>\n",
       "      <th></th>\n",
       "      <th></th>\n",
       "      <th></th>\n",
       "      <th></th>\n",
       "      <th></th>\n",
       "      <th></th>\n",
       "      <th></th>\n",
       "      <th></th>\n",
       "      <th></th>\n",
       "      <th></th>\n",
       "      <th></th>\n",
       "      <th></th>\n",
       "      <th></th>\n",
       "      <th></th>\n",
       "      <th></th>\n",
       "      <th></th>\n",
       "      <th></th>\n",
       "    </tr>\n",
       "  </thead>\n",
       "  <tbody>\n",
       "    <tr>\n",
       "      <th>0</th>\n",
       "      <td>5</td>\n",
       "      <td>29</td>\n",
       "      <td>5</td>\n",
       "      <td>45</td>\n",
       "      <td>812</td>\n",
       "      <td>755</td>\n",
       "      <td>85</td>\n",
       "      <td>2020</td>\n",
       "      <td>2</td>\n",
       "      <td>11</td>\n",
       "      <td>...</td>\n",
       "      <td>46</td>\n",
       "      <td>1053</td>\n",
       "      <td>0</td>\n",
       "      <td>4</td>\n",
       "      <td>0</td>\n",
       "      <td>0</td>\n",
       "      <td>1213</td>\n",
       "      <td>380</td>\n",
       "      <td>35</td>\n",
       "      <td>1222</td>\n",
       "    </tr>\n",
       "    <tr>\n",
       "      <th>1</th>\n",
       "      <td>1</td>\n",
       "      <td>3</td>\n",
       "      <td>0</td>\n",
       "      <td>10</td>\n",
       "      <td>104</td>\n",
       "      <td>143</td>\n",
       "      <td>3</td>\n",
       "      <td>343</td>\n",
       "      <td>0</td>\n",
       "      <td>1</td>\n",
       "      <td>...</td>\n",
       "      <td>7</td>\n",
       "      <td>225</td>\n",
       "      <td>0</td>\n",
       "      <td>1</td>\n",
       "      <td>0</td>\n",
       "      <td>0</td>\n",
       "      <td>152</td>\n",
       "      <td>73</td>\n",
       "      <td>0</td>\n",
       "      <td>244</td>\n",
       "    </tr>\n",
       "  </tbody>\n",
       "</table>\n",
       "<p>2 rows × 32 columns</p>\n",
       "</div>"
      ],
      "text/plain": [
       "SEX                                 female                                \\\n",
       "MARRIAGE                           divorce                                 \n",
       "EDUCATION                  graduate school high school others university   \n",
       "default payment next month                                                 \n",
       "0                                        5          29      5         45   \n",
       "1                                        1           3      0         10   \n",
       "\n",
       "SEX                                                                       \\\n",
       "MARRIAGE                           married                                 \n",
       "EDUCATION                  graduate school high school others university   \n",
       "default payment next month                                                 \n",
       "0                                      812         755     85       2020   \n",
       "1                                      104         143      3        343   \n",
       "\n",
       "SEX                                                     ...    male  \\\n",
       "MARRIAGE                            others              ... married   \n",
       "EDUCATION                  graduate school high school  ...  others   \n",
       "default payment next month                              ...           \n",
       "0                                        2          11  ...      46   \n",
       "1                                        0           1  ...       7   \n",
       "\n",
       "SEX                                                                       \\\n",
       "MARRIAGE                                       others                      \n",
       "EDUCATION                  university graduate school high school others   \n",
       "default payment next month                                                 \n",
       "0                                1053               0           4      0   \n",
       "1                                 225               0           1      0   \n",
       "\n",
       "SEX                                                                       \\\n",
       "MARRIAGE                                       single                      \n",
       "EDUCATION                  university graduate school high school others   \n",
       "default payment next month                                                 \n",
       "0                                   0            1213         380     35   \n",
       "1                                   0             152          73      0   \n",
       "\n",
       "SEX                                    \n",
       "MARRIAGE                               \n",
       "EDUCATION                  university  \n",
       "default payment next month             \n",
       "0                                1222  \n",
       "1                                 244  \n",
       "\n",
       "[2 rows x 32 columns]"
      ]
     },
     "execution_count": 327,
     "metadata": {},
     "output_type": "execute_result"
    }
   ],
   "source": [
    "table.unstack()"
   ]
  },
  {
   "cell_type": "code",
   "execution_count": 328,
   "metadata": {},
   "outputs": [
    {
     "data": {
      "text/plain": [
       "(MultiIndex(levels=[['female', 'male'], ['divorce', 'married', 'others', 'single']],\n",
       "            codes=[[0, 0, 0, 0, 1, 1, 1, 1], [0, 1, 2, 3, 0, 1, 2, 3]],\n",
       "            names=['SEX', 'MARRIAGE']),\n",
       " MultiIndex(levels=[[0, 1], ['graduate school', 'high school', 'others', 'university']],\n",
       "            codes=[[0, 0, 0, 0, 1, 1, 1, 1], [0, 1, 2, 3, 0, 1, 2, 3]],\n",
       "            names=['default payment next month', 'EDUCATION']))"
      ]
     },
     "execution_count": 328,
     "metadata": {},
     "output_type": "execute_result"
    }
   ],
   "source": [
    "table.columns, table.index"
   ]
  },
  {
   "cell_type": "markdown",
   "metadata": {},
   "source": [
    "### Analysis of clients age"
   ]
  },
  {
   "cell_type": "markdown",
   "metadata": {},
   "source": [
    "#### Average and median age of clients"
   ]
  },
  {
   "cell_type": "code",
   "execution_count": 329,
   "metadata": {},
   "outputs": [
    {
     "name": "stdout",
     "output_type": "stream",
     "text": [
      "Average and median age of clients are 36 and 34 years old, respectively\n"
     ]
    }
   ],
   "source": [
    "print('Average and median age of clients are %0.f and %0.f years old, respectively'%(credit.AGE.mean(), \n",
    "                                                                          credit.AGE.median()))"
   ]
  },
  {
   "cell_type": "code",
   "execution_count": 330,
   "metadata": {},
   "outputs": [
    {
     "data": {
      "text/plain": [
       "count    15336.000000\n",
       "mean        35.581638\n",
       "std          9.122325\n",
       "min         21.000000\n",
       "25%         28.000000\n",
       "50%         34.000000\n",
       "75%         41.000000\n",
       "max         79.000000\n",
       "Name: AGE, dtype: float64"
      ]
     },
     "execution_count": 330,
     "metadata": {},
     "output_type": "execute_result"
    }
   ],
   "source": [
    "credit.AGE.describe()"
   ]
  },
  {
   "cell_type": "code",
   "execution_count": 331,
   "metadata": {},
   "outputs": [],
   "source": [
    "age = credit['AGE'].dropna()"
   ]
  },
  {
   "cell_type": "markdown",
   "metadata": {},
   "source": [
    "#### Distribution of age, with an overlay of a density plot"
   ]
  },
  {
   "cell_type": "code",
   "execution_count": 332,
   "metadata": {},
   "outputs": [
    {
     "data": {
      "text/plain": [
       "Text(0.5, 1.0, \"Distribution of Clients' Ages\")"
      ]
     },
     "execution_count": 332,
     "metadata": {},
     "output_type": "execute_result"
    },
    {
     "data": {
      "image/png": "[encoded data removed]",
      "text/plain": [
       "<Figure size 432x288 with 1 Axes>"
      ]
     },
     "metadata": {
      "needs_background": "light"
     },
     "output_type": "display_data"
    }
   ],
   "source": [
    "age_dist = sns.distplot(age)\n",
    "age_dist.set_title(\"Distribution of Clients' Ages\")"
   ]
  },
  {
   "cell_type": "code",
   "execution_count": 333,
   "metadata": {},
   "outputs": [
    {
     "data": {
      "text/plain": [
       "<matplotlib.axes._subplots.AxesSubplot at 0x1a286cec88>"
      ]
     },
     "execution_count": 333,
     "metadata": {},
     "output_type": "execute_result"
    },
    {
     "data": {
      "image/png": "[encoded data removed]",
      "text/plain": [
       "<Figure size 432x288 with 1 Axes>"
      ]
     },
     "metadata": {
      "needs_background": "light"
     },
     "output_type": "display_data"
    }
   ],
   "source": [
    "credit['AGE'].hist(bins=50)"
   ]
  },
  {
   "cell_type": "markdown",
   "metadata": {},
   "source": [
    "#### Function defining those who are ederly"
   ]
  },
  {
   "cell_type": "code",
   "execution_count": 334,
   "metadata": {},
   "outputs": [],
   "source": [
    "def male_female_child(passenger):\n",
    "    age, sex = passenger\n",
    "    \n",
    "    if age > 60:\n",
    "        return 'ederly'\n",
    "    else:\n",
    "        return sex"
   ]
  },
  {
   "cell_type": "markdown",
   "metadata": {},
   "source": [
    "Creating a new attribute based on that function"
   ]
  },
  {
   "cell_type": "code",
   "execution_count": 335,
   "metadata": {},
   "outputs": [],
   "source": [
    "credit['person'] = credit[['AGE', 'SEX']].apply(male_female_child, axis=1)"
   ]
  },
  {
   "cell_type": "code",
   "execution_count": 336,
   "metadata": {},
   "outputs": [
    {
     "data": {
      "text/html": [
       "<div>\n",
       "<style scoped>\n",
       "    .dataframe tbody tr th:only-of-type {\n",
       "        vertical-align: middle;\n",
       "    }\n",
       "\n",
       "    .dataframe tbody tr th {\n",
       "        vertical-align: top;\n",
       "    }\n",
       "\n",
       "    .dataframe thead th {\n",
       "        text-align: right;\n",
       "    }\n",
       "</style>\n",
       "<table border=\"1\" class=\"dataframe\">\n",
       "  <thead>\n",
       "    <tr style=\"text-align: right;\">\n",
       "      <th></th>\n",
       "      <th>ID</th>\n",
       "      <th>LIMIT_BAL</th>\n",
       "      <th>SEX</th>\n",
       "      <th>EDUCATION</th>\n",
       "      <th>MARRIAGE</th>\n",
       "      <th>AGE</th>\n",
       "      <th>PAY_0</th>\n",
       "      <th>PAY_2</th>\n",
       "      <th>PAY_3</th>\n",
       "      <th>PAY_4</th>\n",
       "      <th>...</th>\n",
       "      <th>BILL_AMT5</th>\n",
       "      <th>BILL_AMT6</th>\n",
       "      <th>PAY_AMT1</th>\n",
       "      <th>PAY_AMT2</th>\n",
       "      <th>PAY_AMT3</th>\n",
       "      <th>PAY_AMT4</th>\n",
       "      <th>PAY_AMT5</th>\n",
       "      <th>PAY_AMT6</th>\n",
       "      <th>default payment next month</th>\n",
       "      <th>person</th>\n",
       "    </tr>\n",
       "  </thead>\n",
       "  <tbody>\n",
       "    <tr>\n",
       "      <th>2</th>\n",
       "      <td>3</td>\n",
       "      <td>90000</td>\n",
       "      <td>female</td>\n",
       "      <td>university</td>\n",
       "      <td>single</td>\n",
       "      <td>34</td>\n",
       "      <td>The use of revolving credit</td>\n",
       "      <td>The use of revolving credit</td>\n",
       "      <td>The use of revolving credit</td>\n",
       "      <td>The use of revolving credit</td>\n",
       "      <td>...</td>\n",
       "      <td>14948</td>\n",
       "      <td>15549</td>\n",
       "      <td>1518</td>\n",
       "      <td>1500</td>\n",
       "      <td>1000</td>\n",
       "      <td>1000</td>\n",
       "      <td>1000</td>\n",
       "      <td>5000</td>\n",
       "      <td>0</td>\n",
       "      <td>female</td>\n",
       "    </tr>\n",
       "    <tr>\n",
       "      <th>3</th>\n",
       "      <td>4</td>\n",
       "      <td>50000</td>\n",
       "      <td>female</td>\n",
       "      <td>university</td>\n",
       "      <td>married</td>\n",
       "      <td>37</td>\n",
       "      <td>The use of revolving credit</td>\n",
       "      <td>The use of revolving credit</td>\n",
       "      <td>The use of revolving credit</td>\n",
       "      <td>The use of revolving credit</td>\n",
       "      <td>...</td>\n",
       "      <td>28959</td>\n",
       "      <td>29547</td>\n",
       "      <td>2000</td>\n",
       "      <td>2019</td>\n",
       "      <td>1200</td>\n",
       "      <td>1100</td>\n",
       "      <td>1069</td>\n",
       "      <td>1000</td>\n",
       "      <td>0</td>\n",
       "      <td>female</td>\n",
       "    </tr>\n",
       "    <tr>\n",
       "      <th>4</th>\n",
       "      <td>5</td>\n",
       "      <td>50000</td>\n",
       "      <td>male</td>\n",
       "      <td>university</td>\n",
       "      <td>married</td>\n",
       "      <td>57</td>\n",
       "      <td>Paid in full</td>\n",
       "      <td>The use of revolving credit</td>\n",
       "      <td>Paid in full</td>\n",
       "      <td>The use of revolving credit</td>\n",
       "      <td>...</td>\n",
       "      <td>19146</td>\n",
       "      <td>19131</td>\n",
       "      <td>2000</td>\n",
       "      <td>36681</td>\n",
       "      <td>10000</td>\n",
       "      <td>9000</td>\n",
       "      <td>689</td>\n",
       "      <td>679</td>\n",
       "      <td>0</td>\n",
       "      <td>male</td>\n",
       "    </tr>\n",
       "    <tr>\n",
       "      <th>5</th>\n",
       "      <td>6</td>\n",
       "      <td>50000</td>\n",
       "      <td>male</td>\n",
       "      <td>graduate school</td>\n",
       "      <td>single</td>\n",
       "      <td>37</td>\n",
       "      <td>The use of revolving credit</td>\n",
       "      <td>The use of revolving credit</td>\n",
       "      <td>The use of revolving credit</td>\n",
       "      <td>The use of revolving credit</td>\n",
       "      <td>...</td>\n",
       "      <td>19619</td>\n",
       "      <td>20024</td>\n",
       "      <td>2500</td>\n",
       "      <td>1815</td>\n",
       "      <td>657</td>\n",
       "      <td>1000</td>\n",
       "      <td>1000</td>\n",
       "      <td>800</td>\n",
       "      <td>0</td>\n",
       "      <td>male</td>\n",
       "    </tr>\n",
       "    <tr>\n",
       "      <th>6</th>\n",
       "      <td>7</td>\n",
       "      <td>500000</td>\n",
       "      <td>male</td>\n",
       "      <td>graduate school</td>\n",
       "      <td>single</td>\n",
       "      <td>29</td>\n",
       "      <td>The use of revolving credit</td>\n",
       "      <td>The use of revolving credit</td>\n",
       "      <td>The use of revolving credit</td>\n",
       "      <td>The use of revolving credit</td>\n",
       "      <td>...</td>\n",
       "      <td>483003</td>\n",
       "      <td>473944</td>\n",
       "      <td>55000</td>\n",
       "      <td>40000</td>\n",
       "      <td>38000</td>\n",
       "      <td>20239</td>\n",
       "      <td>13750</td>\n",
       "      <td>13770</td>\n",
       "      <td>0</td>\n",
       "      <td>male</td>\n",
       "    </tr>\n",
       "    <tr>\n",
       "      <th>10</th>\n",
       "      <td>11</td>\n",
       "      <td>200000</td>\n",
       "      <td>female</td>\n",
       "      <td>high school</td>\n",
       "      <td>single</td>\n",
       "      <td>34</td>\n",
       "      <td>The use of revolving credit</td>\n",
       "      <td>The use of revolving credit</td>\n",
       "      <td>payment delay for two months</td>\n",
       "      <td>The use of revolving credit</td>\n",
       "      <td>...</td>\n",
       "      <td>1828</td>\n",
       "      <td>3731</td>\n",
       "      <td>2306</td>\n",
       "      <td>12</td>\n",
       "      <td>50</td>\n",
       "      <td>300</td>\n",
       "      <td>3738</td>\n",
       "      <td>66</td>\n",
       "      <td>0</td>\n",
       "      <td>female</td>\n",
       "    </tr>\n",
       "    <tr>\n",
       "      <th>14</th>\n",
       "      <td>15</td>\n",
       "      <td>250000</td>\n",
       "      <td>male</td>\n",
       "      <td>graduate school</td>\n",
       "      <td>single</td>\n",
       "      <td>29</td>\n",
       "      <td>The use of revolving credit</td>\n",
       "      <td>The use of revolving credit</td>\n",
       "      <td>The use of revolving credit</td>\n",
       "      <td>The use of revolving credit</td>\n",
       "      <td>...</td>\n",
       "      <td>56875</td>\n",
       "      <td>55512</td>\n",
       "      <td>3000</td>\n",
       "      <td>3000</td>\n",
       "      <td>3000</td>\n",
       "      <td>3000</td>\n",
       "      <td>3000</td>\n",
       "      <td>3000</td>\n",
       "      <td>0</td>\n",
       "      <td>male</td>\n",
       "    </tr>\n",
       "    <tr>\n",
       "      <th>17</th>\n",
       "      <td>18</td>\n",
       "      <td>320000</td>\n",
       "      <td>male</td>\n",
       "      <td>graduate school</td>\n",
       "      <td>married</td>\n",
       "      <td>49</td>\n",
       "      <td>The use of revolving credit</td>\n",
       "      <td>The use of revolving credit</td>\n",
       "      <td>The use of revolving credit</td>\n",
       "      <td>Paid in full</td>\n",
       "      <td>...</td>\n",
       "      <td>5856</td>\n",
       "      <td>195599</td>\n",
       "      <td>10358</td>\n",
       "      <td>10000</td>\n",
       "      <td>75940</td>\n",
       "      <td>20000</td>\n",
       "      <td>195599</td>\n",
       "      <td>50000</td>\n",
       "      <td>0</td>\n",
       "      <td>male</td>\n",
       "    </tr>\n",
       "    <tr>\n",
       "      <th>20</th>\n",
       "      <td>21</td>\n",
       "      <td>130000</td>\n",
       "      <td>female</td>\n",
       "      <td>high school</td>\n",
       "      <td>single</td>\n",
       "      <td>39</td>\n",
       "      <td>The use of revolving credit</td>\n",
       "      <td>The use of revolving credit</td>\n",
       "      <td>The use of revolving credit</td>\n",
       "      <td>The use of revolving credit</td>\n",
       "      <td>...</td>\n",
       "      <td>11802</td>\n",
       "      <td>930</td>\n",
       "      <td>3000</td>\n",
       "      <td>1537</td>\n",
       "      <td>1000</td>\n",
       "      <td>2000</td>\n",
       "      <td>930</td>\n",
       "      <td>33764</td>\n",
       "      <td>0</td>\n",
       "      <td>female</td>\n",
       "    </tr>\n",
       "    <tr>\n",
       "      <th>25</th>\n",
       "      <td>26</td>\n",
       "      <td>50000</td>\n",
       "      <td>male</td>\n",
       "      <td>high school</td>\n",
       "      <td>single</td>\n",
       "      <td>23</td>\n",
       "      <td>The use of revolving credit</td>\n",
       "      <td>The use of revolving credit</td>\n",
       "      <td>The use of revolving credit</td>\n",
       "      <td>The use of revolving credit</td>\n",
       "      <td>...</td>\n",
       "      <td>29829</td>\n",
       "      <td>30046</td>\n",
       "      <td>1973</td>\n",
       "      <td>1426</td>\n",
       "      <td>1001</td>\n",
       "      <td>1432</td>\n",
       "      <td>1062</td>\n",
       "      <td>997</td>\n",
       "      <td>0</td>\n",
       "      <td>male</td>\n",
       "    </tr>\n",
       "  </tbody>\n",
       "</table>\n",
       "<p>10 rows × 26 columns</p>\n",
       "</div>"
      ],
      "text/plain": [
       "    ID  LIMIT_BAL     SEX        EDUCATION MARRIAGE  AGE  \\\n",
       "2    3      90000  female       university   single   34   \n",
       "3    4      50000  female       university  married   37   \n",
       "4    5      50000    male       university  married   57   \n",
       "5    6      50000    male  graduate school   single   37   \n",
       "6    7     500000    male  graduate school   single   29   \n",
       "10  11     200000  female      high school   single   34   \n",
       "14  15     250000    male  graduate school   single   29   \n",
       "17  18     320000    male  graduate school  married   49   \n",
       "20  21     130000  female      high school   single   39   \n",
       "25  26      50000    male      high school   single   23   \n",
       "\n",
       "                          PAY_0                        PAY_2  \\\n",
       "2   The use of revolving credit  The use of revolving credit   \n",
       "3   The use of revolving credit  The use of revolving credit   \n",
       "4                  Paid in full  The use of revolving credit   \n",
       "5   The use of revolving credit  The use of revolving credit   \n",
       "6   The use of revolving credit  The use of revolving credit   \n",
       "10  The use of revolving credit  The use of revolving credit   \n",
       "14  The use of revolving credit  The use of revolving credit   \n",
       "17  The use of revolving credit  The use of revolving credit   \n",
       "20  The use of revolving credit  The use of revolving credit   \n",
       "25  The use of revolving credit  The use of revolving credit   \n",
       "\n",
       "                            PAY_3                        PAY_4  ... BILL_AMT5  \\\n",
       "2     The use of revolving credit  The use of revolving credit  ...     14948   \n",
       "3     The use of revolving credit  The use of revolving credit  ...     28959   \n",
       "4                    Paid in full  The use of revolving credit  ...     19146   \n",
       "5     The use of revolving credit  The use of revolving credit  ...     19619   \n",
       "6     The use of revolving credit  The use of revolving credit  ...    483003   \n",
       "10   payment delay for two months  The use of revolving credit  ...      1828   \n",
       "14    The use of revolving credit  The use of revolving credit  ...     56875   \n",
       "17    The use of revolving credit                 Paid in full  ...      5856   \n",
       "20    The use of revolving credit  The use of revolving credit  ...     11802   \n",
       "25    The use of revolving credit  The use of revolving credit  ...     29829   \n",
       "\n",
       "   BILL_AMT6  PAY_AMT1  PAY_AMT2  PAY_AMT3  PAY_AMT4  PAY_AMT5  PAY_AMT6  \\\n",
       "2      15549      1518      1500      1000      1000      1000      5000   \n",
       "3      29547      2000      2019      1200      1100      1069      1000   \n",
       "4      19131      2000     36681     10000      9000       689       679   \n",
       "5      20024      2500      1815       657      1000      1000       800   \n",
       "6     473944     55000     40000     38000     20239     13750     13770   \n",
       "10      3731      2306        12        50       300      3738        66   \n",
       "14     55512      3000      3000      3000      3000      3000      3000   \n",
       "17    195599     10358     10000     75940     20000    195599     50000   \n",
       "20       930      3000      1537      1000      2000       930     33764   \n",
       "25     30046      1973      1426      1001      1432      1062       997   \n",
       "\n",
       "    default payment next month  person  \n",
       "2                            0  female  \n",
       "3                            0  female  \n",
       "4                            0    male  \n",
       "5                            0    male  \n",
       "6                            0    male  \n",
       "10                           0  female  \n",
       "14                           0    male  \n",
       "17                           0    male  \n",
       "20                           0  female  \n",
       "25                           0    male  \n",
       "\n",
       "[10 rows x 26 columns]"
      ]
     },
     "execution_count": 336,
     "metadata": {},
     "output_type": "execute_result"
    }
   ],
   "source": [
    "credit[:10]"
   ]
  },
  {
   "cell_type": "markdown",
   "metadata": {},
   "source": [
    "### Distribution of Age Grouped by Gender"
   ]
  },
  {
   "cell_type": "code",
   "execution_count": 337,
   "metadata": {},
   "outputs": [
    {
     "data": {
      "text/plain": [
       "<seaborn.axisgrid.FacetGrid at 0x1a2cdacc18>"
      ]
     },
     "execution_count": 337,
     "metadata": {},
     "output_type": "execute_result"
    },
    {
     "data": {
      "image/png": "[encoded data removed]",
      "text/plain": [
       "<Figure size 934.5x216 with 1 Axes>"
      ]
     },
     "metadata": {
      "needs_background": "light"
     },
     "output_type": "display_data"
    }
   ],
   "source": [
    "fig = sns.FacetGrid(credit, hue='SEX', aspect=4)\n",
    "fig.map(sns.kdeplot, 'AGE', shade=True)\n",
    "oldest = credit['AGE'].max()\n",
    "fig.set(xlim=(0,oldest))\n",
    "fig.set(title='Distribution of Age Grouped by Gender')\n",
    "fig.add_legend()"
   ]
  },
  {
   "cell_type": "markdown",
   "metadata": {},
   "source": [
    "### Distribution of Age Grouped by property 'Person'"
   ]
  },
  {
   "cell_type": "code",
   "execution_count": 338,
   "metadata": {},
   "outputs": [
    {
     "data": {
      "text/plain": [
       "<seaborn.axisgrid.FacetGrid at 0x1a2bd932b0>"
      ]
     },
     "execution_count": 338,
     "metadata": {},
     "output_type": "execute_result"
    },
    {
     "data": {
      "image/png": "[encoded data removed]",
      "text/plain": [
       "<Figure size 934.5x216 with 1 Axes>"
      ]
     },
     "metadata": {
      "needs_background": "light"
     },
     "output_type": "display_data"
    }
   ],
   "source": [
    "fig = sns.FacetGrid(credit, hue='person', aspect=4)\n",
    "fig.map(sns.kdeplot, 'AGE', shade=True)\n",
    "oldest = credit['AGE'].max()\n",
    "fig.set(xlim=(0,oldest))\n",
    "fig.add_legend()"
   ]
  },
  {
   "cell_type": "markdown",
   "metadata": {},
   "source": [
    "### Distribution of Age Grouped by Education Level"
   ]
  },
  {
   "cell_type": "code",
   "execution_count": 339,
   "metadata": {},
   "outputs": [
    {
     "data": {
      "text/plain": [
       "<seaborn.axisgrid.FacetGrid at 0x1a28d01390>"
      ]
     },
     "execution_count": 339,
     "metadata": {},
     "output_type": "execute_result"
    },
    {
     "data": {
      "image/png": "[encoded data removed]",
      "text/plain": [
       "<Figure size 980.625x216 with 1 Axes>"
      ]
     },
     "metadata": {
      "needs_background": "light"
     },
     "output_type": "display_data"
    }
   ],
   "source": [
    "fig = sns.FacetGrid(credit, hue='EDUCATION', aspect=4)\n",
    "fig.map(sns.kdeplot, 'AGE', shade=True)\n",
    "oldest = credit['AGE'].max()\n",
    "fig.set(xlim=(0,oldest))\n",
    "fig.set(title='Distribution of Age Grouped by Education')\n",
    "fig.add_legend()"
   ]
  },
  {
   "cell_type": "markdown",
   "metadata": {},
   "source": [
    "### Distribution of Gender Grouped by Education Level"
   ]
  },
  {
   "cell_type": "code",
   "execution_count": 340,
   "metadata": {},
   "outputs": [],
   "source": [
    "creditEducationSex = pd.crosstab(index=[credit.EDUCATION], columns=[credit.SEX])"
   ]
  },
  {
   "cell_type": "code",
   "execution_count": 341,
   "metadata": {},
   "outputs": [
    {
     "data": {
      "text/html": [
       "<div>\n",
       "<style scoped>\n",
       "    .dataframe tbody tr th:only-of-type {\n",
       "        vertical-align: middle;\n",
       "    }\n",
       "\n",
       "    .dataframe tbody tr th {\n",
       "        vertical-align: top;\n",
       "    }\n",
       "\n",
       "    .dataframe thead th {\n",
       "        text-align: right;\n",
       "    }\n",
       "</style>\n",
       "<table border=\"1\" class=\"dataframe\">\n",
       "  <thead>\n",
       "    <tr style=\"text-align: right;\">\n",
       "      <th>SEX</th>\n",
       "      <th>female</th>\n",
       "      <th>male</th>\n",
       "    </tr>\n",
       "    <tr>\n",
       "      <th>EDUCATION</th>\n",
       "      <th></th>\n",
       "      <th></th>\n",
       "    </tr>\n",
       "  </thead>\n",
       "  <tbody>\n",
       "    <tr>\n",
       "      <th>graduate school</th>\n",
       "      <td>3002</td>\n",
       "      <td>2250</td>\n",
       "    </tr>\n",
       "    <tr>\n",
       "      <th>high school</th>\n",
       "      <td>1476</td>\n",
       "      <td>987</td>\n",
       "    </tr>\n",
       "    <tr>\n",
       "      <th>others</th>\n",
       "      <td>171</td>\n",
       "      <td>88</td>\n",
       "    </tr>\n",
       "    <tr>\n",
       "      <th>university</th>\n",
       "      <td>4582</td>\n",
       "      <td>2780</td>\n",
       "    </tr>\n",
       "  </tbody>\n",
       "</table>\n",
       "</div>"
      ],
      "text/plain": [
       "SEX              female  male\n",
       "EDUCATION                    \n",
       "graduate school    3002  2250\n",
       "high school        1476   987\n",
       "others              171    88\n",
       "university         4582  2780"
      ]
     },
     "execution_count": 341,
     "metadata": {},
     "output_type": "execute_result"
    }
   ],
   "source": [
    "creditEducationSex"
   ]
  },
  {
   "cell_type": "code",
   "execution_count": 342,
   "metadata": {},
   "outputs": [
    {
     "data": {
      "text/plain": [
       "Index(['graduate school', 'high school', 'others', 'university'], dtype='object', name='EDUCATION')"
      ]
     },
     "execution_count": 342,
     "metadata": {},
     "output_type": "execute_result"
    }
   ],
   "source": [
    "creditEducationSex.index"
   ]
  },
  {
   "cell_type": "code",
   "execution_count": 343,
   "metadata": {},
   "outputs": [
    {
     "data": {
      "text/plain": [
       "Index(['female', 'male'], dtype='object', name='SEX')"
      ]
     },
     "execution_count": 343,
     "metadata": {},
     "output_type": "execute_result"
    }
   ],
   "source": [
    "creditEducationSex.columns"
   ]
  },
  {
   "cell_type": "markdown",
   "metadata": {},
   "source": [
    "### Factors Affecting the Credit Payment"
   ]
  },
  {
   "cell_type": "code",
   "execution_count": 344,
   "metadata": {},
   "outputs": [],
   "source": [
    "credit['payment'] = credit['default payment next month'].map({0:'no', 1:'yes'})"
   ]
  },
  {
   "cell_type": "code",
   "execution_count": 345,
   "metadata": {},
   "outputs": [
    {
     "data": {
      "text/html": [
       "<div>\n",
       "<style scoped>\n",
       "    .dataframe tbody tr th:only-of-type {\n",
       "        vertical-align: middle;\n",
       "    }\n",
       "\n",
       "    .dataframe tbody tr th {\n",
       "        vertical-align: top;\n",
       "    }\n",
       "\n",
       "    .dataframe thead th {\n",
       "        text-align: right;\n",
       "    }\n",
       "</style>\n",
       "<table border=\"1\" class=\"dataframe\">\n",
       "  <thead>\n",
       "    <tr style=\"text-align: right;\">\n",
       "      <th></th>\n",
       "      <th>ID</th>\n",
       "      <th>LIMIT_BAL</th>\n",
       "      <th>SEX</th>\n",
       "      <th>EDUCATION</th>\n",
       "      <th>MARRIAGE</th>\n",
       "      <th>AGE</th>\n",
       "      <th>PAY_0</th>\n",
       "      <th>PAY_2</th>\n",
       "      <th>PAY_3</th>\n",
       "      <th>PAY_4</th>\n",
       "      <th>...</th>\n",
       "      <th>BILL_AMT6</th>\n",
       "      <th>PAY_AMT1</th>\n",
       "      <th>PAY_AMT2</th>\n",
       "      <th>PAY_AMT3</th>\n",
       "      <th>PAY_AMT4</th>\n",
       "      <th>PAY_AMT5</th>\n",
       "      <th>PAY_AMT6</th>\n",
       "      <th>default payment next month</th>\n",
       "      <th>person</th>\n",
       "      <th>payment</th>\n",
       "    </tr>\n",
       "  </thead>\n",
       "  <tbody>\n",
       "    <tr>\n",
       "      <th>2</th>\n",
       "      <td>3</td>\n",
       "      <td>90000</td>\n",
       "      <td>female</td>\n",
       "      <td>university</td>\n",
       "      <td>single</td>\n",
       "      <td>34</td>\n",
       "      <td>The use of revolving credit</td>\n",
       "      <td>The use of revolving credit</td>\n",
       "      <td>The use of revolving credit</td>\n",
       "      <td>The use of revolving credit</td>\n",
       "      <td>...</td>\n",
       "      <td>15549</td>\n",
       "      <td>1518</td>\n",
       "      <td>1500</td>\n",
       "      <td>1000</td>\n",
       "      <td>1000</td>\n",
       "      <td>1000</td>\n",
       "      <td>5000</td>\n",
       "      <td>0</td>\n",
       "      <td>female</td>\n",
       "      <td>no</td>\n",
       "    </tr>\n",
       "    <tr>\n",
       "      <th>3</th>\n",
       "      <td>4</td>\n",
       "      <td>50000</td>\n",
       "      <td>female</td>\n",
       "      <td>university</td>\n",
       "      <td>married</td>\n",
       "      <td>37</td>\n",
       "      <td>The use of revolving credit</td>\n",
       "      <td>The use of revolving credit</td>\n",
       "      <td>The use of revolving credit</td>\n",
       "      <td>The use of revolving credit</td>\n",
       "      <td>...</td>\n",
       "      <td>29547</td>\n",
       "      <td>2000</td>\n",
       "      <td>2019</td>\n",
       "      <td>1200</td>\n",
       "      <td>1100</td>\n",
       "      <td>1069</td>\n",
       "      <td>1000</td>\n",
       "      <td>0</td>\n",
       "      <td>female</td>\n",
       "      <td>no</td>\n",
       "    </tr>\n",
       "    <tr>\n",
       "      <th>4</th>\n",
       "      <td>5</td>\n",
       "      <td>50000</td>\n",
       "      <td>male</td>\n",
       "      <td>university</td>\n",
       "      <td>married</td>\n",
       "      <td>57</td>\n",
       "      <td>Paid in full</td>\n",
       "      <td>The use of revolving credit</td>\n",
       "      <td>Paid in full</td>\n",
       "      <td>The use of revolving credit</td>\n",
       "      <td>...</td>\n",
       "      <td>19131</td>\n",
       "      <td>2000</td>\n",
       "      <td>36681</td>\n",
       "      <td>10000</td>\n",
       "      <td>9000</td>\n",
       "      <td>689</td>\n",
       "      <td>679</td>\n",
       "      <td>0</td>\n",
       "      <td>male</td>\n",
       "      <td>no</td>\n",
       "    </tr>\n",
       "    <tr>\n",
       "      <th>5</th>\n",
       "      <td>6</td>\n",
       "      <td>50000</td>\n",
       "      <td>male</td>\n",
       "      <td>graduate school</td>\n",
       "      <td>single</td>\n",
       "      <td>37</td>\n",
       "      <td>The use of revolving credit</td>\n",
       "      <td>The use of revolving credit</td>\n",
       "      <td>The use of revolving credit</td>\n",
       "      <td>The use of revolving credit</td>\n",
       "      <td>...</td>\n",
       "      <td>20024</td>\n",
       "      <td>2500</td>\n",
       "      <td>1815</td>\n",
       "      <td>657</td>\n",
       "      <td>1000</td>\n",
       "      <td>1000</td>\n",
       "      <td>800</td>\n",
       "      <td>0</td>\n",
       "      <td>male</td>\n",
       "      <td>no</td>\n",
       "    </tr>\n",
       "    <tr>\n",
       "      <th>6</th>\n",
       "      <td>7</td>\n",
       "      <td>500000</td>\n",
       "      <td>male</td>\n",
       "      <td>graduate school</td>\n",
       "      <td>single</td>\n",
       "      <td>29</td>\n",
       "      <td>The use of revolving credit</td>\n",
       "      <td>The use of revolving credit</td>\n",
       "      <td>The use of revolving credit</td>\n",
       "      <td>The use of revolving credit</td>\n",
       "      <td>...</td>\n",
       "      <td>473944</td>\n",
       "      <td>55000</td>\n",
       "      <td>40000</td>\n",
       "      <td>38000</td>\n",
       "      <td>20239</td>\n",
       "      <td>13750</td>\n",
       "      <td>13770</td>\n",
       "      <td>0</td>\n",
       "      <td>male</td>\n",
       "      <td>no</td>\n",
       "    </tr>\n",
       "  </tbody>\n",
       "</table>\n",
       "<p>5 rows × 27 columns</p>\n",
       "</div>"
      ],
      "text/plain": [
       "   ID  LIMIT_BAL     SEX        EDUCATION MARRIAGE  AGE  \\\n",
       "2   3      90000  female       university   single   34   \n",
       "3   4      50000  female       university  married   37   \n",
       "4   5      50000    male       university  married   57   \n",
       "5   6      50000    male  graduate school   single   37   \n",
       "6   7     500000    male  graduate school   single   29   \n",
       "\n",
       "                         PAY_0                        PAY_2  \\\n",
       "2  The use of revolving credit  The use of revolving credit   \n",
       "3  The use of revolving credit  The use of revolving credit   \n",
       "4                 Paid in full  The use of revolving credit   \n",
       "5  The use of revolving credit  The use of revolving credit   \n",
       "6  The use of revolving credit  The use of revolving credit   \n",
       "\n",
       "                         PAY_3                        PAY_4  ... BILL_AMT6  \\\n",
       "2  The use of revolving credit  The use of revolving credit  ...     15549   \n",
       "3  The use of revolving credit  The use of revolving credit  ...     29547   \n",
       "4                 Paid in full  The use of revolving credit  ...     19131   \n",
       "5  The use of revolving credit  The use of revolving credit  ...     20024   \n",
       "6  The use of revolving credit  The use of revolving credit  ...    473944   \n",
       "\n",
       "  PAY_AMT1  PAY_AMT2  PAY_AMT3  PAY_AMT4  PAY_AMT5  PAY_AMT6  \\\n",
       "2     1518      1500      1000      1000      1000      5000   \n",
       "3     2000      2019      1200      1100      1069      1000   \n",
       "4     2000     36681     10000      9000       689       679   \n",
       "5     2500      1815       657      1000      1000       800   \n",
       "6    55000     40000     38000     20239     13750     13770   \n",
       "\n",
       "   default payment next month  person  payment  \n",
       "2                           0  female       no  \n",
       "3                           0  female       no  \n",
       "4                           0    male       no  \n",
       "5                           0    male       no  \n",
       "6                           0    male       no  \n",
       "\n",
       "[5 rows x 27 columns]"
      ]
     },
     "execution_count": 345,
     "metadata": {},
     "output_type": "execute_result"
    }
   ],
   "source": [
    "credit.head()"
   ]
  },
  {
   "cell_type": "markdown",
   "metadata": {},
   "source": [
    "### Linear Plot of Limit Balance vs default payment"
   ]
  },
  {
   "cell_type": "code",
   "execution_count": 346,
   "metadata": {},
   "outputs": [
    {
     "data": {
      "text/plain": [
       "<seaborn.axisgrid.FacetGrid at 0x1a2c3d9550>"
      ]
     },
     "execution_count": 346,
     "metadata": {},
     "output_type": "execute_result"
    },
    {
     "data": {
      "image/png": "[encoded data removed]",
      "text/plain": [
       "<Figure size 360x360 with 1 Axes>"
      ]
     },
     "metadata": {
      "needs_background": "light"
     },
     "output_type": "display_data"
    }
   ],
   "source": [
    "sns.lmplot('LIMIT_BAL', 'default payment next month', data=credit)"
   ]
  },
  {
   "cell_type": "markdown",
   "metadata": {},
   "source": [
    "### Linear Plot of Age, Gender vs default payment"
   ]
  },
  {
   "cell_type": "markdown",
   "metadata": {},
   "source": [
    "We can see that age distribution do not differ very much, but in addition to this we can see there are more tendency to default payment in male than female."
   ]
  },
  {
   "cell_type": "code",
   "execution_count": 347,
   "metadata": {},
   "outputs": [
    {
     "data": {
      "text/plain": [
       "<seaborn.axisgrid.FacetGrid at 0x1a2bcc6518>"
      ]
     },
     "execution_count": 347,
     "metadata": {},
     "output_type": "execute_result"
    },
    {
     "data": {
      "image/png": "[encoded data removed]",
      "text/plain": [
       "<Figure size 430.5x360 with 1 Axes>"
      ]
     },
     "metadata": {
      "needs_background": "light"
     },
     "output_type": "display_data"
    }
   ],
   "source": [
    "sns.lmplot('AGE', 'default payment next month', data=credit, hue='SEX')"
   ]
  },
  {
   "cell_type": "markdown",
   "metadata": {},
   "source": [
    "### Linear Plot of Age, Education vs default payment"
   ]
  },
  {
   "cell_type": "code",
   "execution_count": 348,
   "metadata": {},
   "outputs": [
    {
     "data": {
      "text/plain": [
       "<seaborn.axisgrid.FacetGrid at 0x1a2cd72a20>"
      ]
     },
     "execution_count": 348,
     "metadata": {},
     "output_type": "execute_result"
    },
    {
     "data": {
      "image/png": "[encoded data removed]",
      "text/plain": [
       "<Figure size 476.625x360 with 1 Axes>"
      ]
     },
     "metadata": {
      "needs_background": "light"
     },
     "output_type": "display_data"
    }
   ],
   "source": [
    "sns.lmplot('LIMIT_BAL','default payment next month',hue='EDUCATION',data=credit,x_bins=generations)"
   ]
  },
  {
   "cell_type": "markdown",
   "metadata": {},
   "source": [
    "#### Linear Plot of Marriage Status vs default payment"
   ]
  },
  {
   "cell_type": "markdown",
   "metadata": {},
   "source": [
    "In divorced people there is a higher rate to default payment."
   ]
  },
  {
   "cell_type": "code",
   "execution_count": 349,
   "metadata": {},
   "outputs": [
    {
     "data": {
      "text/plain": [
       "<seaborn.axisgrid.FacetGrid at 0x1a2cd3c7b8>"
      ]
     },
     "execution_count": 349,
     "metadata": {},
     "output_type": "execute_result"
    },
    {
     "data": {
      "image/png": "[encoded data removed]",
      "text/plain": [
       "<Figure size 360x360 with 1 Axes>"
      ]
     },
     "metadata": {
      "needs_background": "light"
     },
     "output_type": "display_data"
    }
   ],
   "source": [
    "sns.factorplot('MARRIAGE', 'default payment next month', data=credit, palette='winter') "
   ]
  },
  {
   "cell_type": "code",
   "execution_count": null,
   "metadata": {},
   "outputs": [],
   "source": []
  },
  {
   "cell_type": "code",
   "execution_count": null,
   "metadata": {},
   "outputs": [],
   "source": []
  }
 ],
 "metadata": {
  "kernelspec": {
   "display_name": "Python 3",
   "language": "python",
   "name": "python3"
  },
  "language_info": {
   "codemirror_mode": {
    "name": "ipython",
    "version": 3
   },
   "file_extension": ".py",
   "mimetype": "text/x-python",
   "name": "python",
   "nbconvert_exporter": "python",
   "pygments_lexer": "ipython3",
   "version": "3.7.3"
  }
 },
 "nbformat": 4,
 "nbformat_minor": 2
}
